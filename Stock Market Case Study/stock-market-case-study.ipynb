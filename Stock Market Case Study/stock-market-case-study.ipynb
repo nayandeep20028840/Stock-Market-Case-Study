{
 "cells": [
  {
   "cell_type": "markdown",
   "metadata": {
    "papermill": {
     "duration": 0.018951,
     "end_time": "2022-10-02T07:16:46.010275",
     "exception": false,
     "start_time": "2022-10-02T07:16:45.991324",
     "status": "completed"
    },
    "tags": []
   },
   "source": [
    "\n",
    "## Using NIFTY50 Dataset\n",
    "### Name : Nayan Deep\n",
    "### Branch : Computer Science\n",
    "\n",
    "### Aim: To find the how stocks of the TCS company behave on different days (statistical analysis on the stock prices of TCS company data)"
   ]
  },
  {
   "cell_type": "code",
   "execution_count": 1,
   "metadata": {
    "_cell_guid": "b1076dfc-b9ad-4769-8c92-a6c4dae69d19",
    "_uuid": "8f2839f25d086af736a60e9eeb907d3b93b6e0e5",
    "execution": {
     "iopub.execute_input": "2022-10-02T07:16:46.050998Z",
     "iopub.status.busy": "2022-10-02T07:16:46.050005Z",
     "iopub.status.idle": "2022-10-02T07:16:47.124547Z",
     "shell.execute_reply": "2022-10-02T07:16:47.123448Z"
    },
    "papermill": {
     "duration": 1.099596,
     "end_time": "2022-10-02T07:16:47.127390",
     "exception": false,
     "start_time": "2022-10-02T07:16:46.027794",
     "status": "completed"
    },
    "tags": []
   },
   "outputs": [],
   "source": [
    "import numpy as np \n",
    "import pandas as pd \n",
    "import seaborn as sns\n",
    "import matplotlib.pyplot as plt"
   ]
  },
  {
   "cell_type": "markdown",
   "metadata": {
    "papermill": {
     "duration": 0.017484,
     "end_time": "2022-10-02T07:16:47.162822",
     "exception": false,
     "start_time": "2022-10-02T07:16:47.145338",
     "status": "completed"
    },
    "tags": []
   },
   "source": [
    "We first load the dataset for the case study on the random process. We use the publicly accessible NIFTY-50 Stocks Dataset (https://www.kaggle.com/datasets/iamsouravbanerjee/nifty50-stocks-dataset) for this case study. The data from the NSE was used to construct this dataset."
   ]
  },
  {
   "cell_type": "markdown",
   "metadata": {
    "papermill": {
     "duration": 0.017169,
     "end_time": "2022-10-02T07:16:47.197461",
     "exception": false,
     "start_time": "2022-10-02T07:16:47.180292",
     "status": "completed"
    },
    "tags": []
   },
   "source": [
    "From the full dataset, we select only stocks for the TCS company as sample and load it with help of pandas module"
   ]
  },
  {
   "cell_type": "code",
   "execution_count": 2,
   "metadata": {
    "execution": {
     "iopub.execute_input": "2022-10-02T07:16:47.234319Z",
     "iopub.status.busy": "2022-10-02T07:16:47.233884Z",
     "iopub.status.idle": "2022-10-02T07:16:47.257687Z",
     "shell.execute_reply": "2022-10-02T07:16:47.256670Z"
    },
    "papermill": {
     "duration": 0.04532,
     "end_time": "2022-10-02T07:16:47.260487",
     "exception": false,
     "start_time": "2022-10-02T07:16:47.215167",
     "status": "completed"
    },
    "tags": []
   },
   "outputs": [],
   "source": [
    "df = pd.read_csv(\"../Desktop/tcs.csv\")"
   ]
  },
  {
   "cell_type": "markdown",
   "metadata": {
    "papermill": {
     "duration": 0.016973,
     "end_time": "2022-10-02T07:16:47.294977",
     "exception": false,
     "start_time": "2022-10-02T07:16:47.278004",
     "status": "completed"
    },
    "tags": []
   },
   "source": [
    "Display the first 5 rows from the datset using df.head()"
   ]
  },
  {
   "cell_type": "code",
   "execution_count": 3,
   "metadata": {
    "execution": {
     "iopub.execute_input": "2022-10-02T07:16:47.331153Z",
     "iopub.status.busy": "2022-10-02T07:16:47.330713Z",
     "iopub.status.idle": "2022-10-02T07:16:47.359096Z",
     "shell.execute_reply": "2022-10-02T07:16:47.358311Z"
    },
    "papermill": {
     "duration": 0.049361,
     "end_time": "2022-10-02T07:16:47.361486",
     "exception": false,
     "start_time": "2022-10-02T07:16:47.312125",
     "status": "completed"
    },
    "tags": []
   },
   "outputs": [
    {
     "data": {
      "text/html": [
       "<div>\n",
       "<style scoped>\n",
       "    .dataframe tbody tr th:only-of-type {\n",
       "        vertical-align: middle;\n",
       "    }\n",
       "\n",
       "    .dataframe tbody tr th {\n",
       "        vertical-align: top;\n",
       "    }\n",
       "\n",
       "    .dataframe thead th {\n",
       "        text-align: right;\n",
       "    }\n",
       "</style>\n",
       "<table border=\"1\" class=\"dataframe\">\n",
       "  <thead>\n",
       "    <tr style=\"text-align: right;\">\n",
       "      <th></th>\n",
       "      <th>Date</th>\n",
       "      <th>Symbol</th>\n",
       "      <th>Series</th>\n",
       "      <th>Prev Close</th>\n",
       "      <th>Open</th>\n",
       "      <th>High</th>\n",
       "      <th>Low</th>\n",
       "      <th>Last</th>\n",
       "      <th>Close</th>\n",
       "      <th>VWAP</th>\n",
       "      <th>Volume</th>\n",
       "      <th>Turnover</th>\n",
       "      <th>Trades</th>\n",
       "      <th>Deliverable Volume</th>\n",
       "      <th>%Deliverble</th>\n",
       "    </tr>\n",
       "  </thead>\n",
       "  <tbody>\n",
       "    <tr>\n",
       "      <th>0</th>\n",
       "      <td>2004-08-25</td>\n",
       "      <td>TCS</td>\n",
       "      <td>EQ</td>\n",
       "      <td>850.00</td>\n",
       "      <td>1198.7</td>\n",
       "      <td>1198.7</td>\n",
       "      <td>979.00</td>\n",
       "      <td>985.00</td>\n",
       "      <td>987.95</td>\n",
       "      <td>1008.32</td>\n",
       "      <td>17116372</td>\n",
       "      <td>1.725876e+15</td>\n",
       "      <td>NaN</td>\n",
       "      <td>5206360</td>\n",
       "      <td>0.3042</td>\n",
       "    </tr>\n",
       "    <tr>\n",
       "      <th>1</th>\n",
       "      <td>2004-08-26</td>\n",
       "      <td>TCS</td>\n",
       "      <td>EQ</td>\n",
       "      <td>987.95</td>\n",
       "      <td>992.0</td>\n",
       "      <td>997.0</td>\n",
       "      <td>975.30</td>\n",
       "      <td>976.85</td>\n",
       "      <td>979.00</td>\n",
       "      <td>985.65</td>\n",
       "      <td>5055400</td>\n",
       "      <td>4.982865e+14</td>\n",
       "      <td>NaN</td>\n",
       "      <td>1294899</td>\n",
       "      <td>0.2561</td>\n",
       "    </tr>\n",
       "    <tr>\n",
       "      <th>2</th>\n",
       "      <td>2004-08-27</td>\n",
       "      <td>TCS</td>\n",
       "      <td>EQ</td>\n",
       "      <td>979.00</td>\n",
       "      <td>982.4</td>\n",
       "      <td>982.4</td>\n",
       "      <td>958.55</td>\n",
       "      <td>961.20</td>\n",
       "      <td>962.65</td>\n",
       "      <td>969.94</td>\n",
       "      <td>3830750</td>\n",
       "      <td>3.715586e+14</td>\n",
       "      <td>NaN</td>\n",
       "      <td>976527</td>\n",
       "      <td>0.2549</td>\n",
       "    </tr>\n",
       "    <tr>\n",
       "      <th>3</th>\n",
       "      <td>2004-08-30</td>\n",
       "      <td>TCS</td>\n",
       "      <td>EQ</td>\n",
       "      <td>962.65</td>\n",
       "      <td>969.9</td>\n",
       "      <td>990.0</td>\n",
       "      <td>965.00</td>\n",
       "      <td>986.40</td>\n",
       "      <td>986.75</td>\n",
       "      <td>982.65</td>\n",
       "      <td>3058151</td>\n",
       "      <td>3.005106e+14</td>\n",
       "      <td>NaN</td>\n",
       "      <td>701664</td>\n",
       "      <td>0.2294</td>\n",
       "    </tr>\n",
       "    <tr>\n",
       "      <th>4</th>\n",
       "      <td>2004-08-31</td>\n",
       "      <td>TCS</td>\n",
       "      <td>EQ</td>\n",
       "      <td>986.75</td>\n",
       "      <td>986.5</td>\n",
       "      <td>990.0</td>\n",
       "      <td>976.00</td>\n",
       "      <td>987.80</td>\n",
       "      <td>988.10</td>\n",
       "      <td>982.18</td>\n",
       "      <td>2649332</td>\n",
       "      <td>2.602133e+14</td>\n",
       "      <td>NaN</td>\n",
       "      <td>695234</td>\n",
       "      <td>0.2624</td>\n",
       "    </tr>\n",
       "  </tbody>\n",
       "</table>\n",
       "</div>"
      ],
      "text/plain": [
       "         Date Symbol Series  Prev Close    Open    High     Low    Last  \\\n",
       "0  2004-08-25    TCS     EQ      850.00  1198.7  1198.7  979.00  985.00   \n",
       "1  2004-08-26    TCS     EQ      987.95   992.0   997.0  975.30  976.85   \n",
       "2  2004-08-27    TCS     EQ      979.00   982.4   982.4  958.55  961.20   \n",
       "3  2004-08-30    TCS     EQ      962.65   969.9   990.0  965.00  986.40   \n",
       "4  2004-08-31    TCS     EQ      986.75   986.5   990.0  976.00  987.80   \n",
       "\n",
       "    Close     VWAP    Volume      Turnover  Trades  Deliverable Volume  \\\n",
       "0  987.95  1008.32  17116372  1.725876e+15     NaN             5206360   \n",
       "1  979.00   985.65   5055400  4.982865e+14     NaN             1294899   \n",
       "2  962.65   969.94   3830750  3.715586e+14     NaN              976527   \n",
       "3  986.75   982.65   3058151  3.005106e+14     NaN              701664   \n",
       "4  988.10   982.18   2649332  2.602133e+14     NaN              695234   \n",
       "\n",
       "   %Deliverble  \n",
       "0       0.3042  \n",
       "1       0.2561  \n",
       "2       0.2549  \n",
       "3       0.2294  \n",
       "4       0.2624  "
      ]
     },
     "execution_count": 3,
     "metadata": {},
     "output_type": "execute_result"
    }
   ],
   "source": [
    "df.head()"
   ]
  },
  {
   "cell_type": "markdown",
   "metadata": {
    "papermill": {
     "duration": 0.017319,
     "end_time": "2022-10-02T07:16:47.396397",
     "exception": false,
     "start_time": "2022-10-02T07:16:47.379078",
     "status": "completed"
    },
    "tags": []
   },
   "source": [
    "Display the column names of the dataset"
   ]
  },
  {
   "cell_type": "code",
   "execution_count": 4,
   "metadata": {
    "execution": {
     "iopub.execute_input": "2022-10-02T07:16:47.492278Z",
     "iopub.status.busy": "2022-10-02T07:16:47.491037Z",
     "iopub.status.idle": "2022-10-02T07:16:47.497867Z",
     "shell.execute_reply": "2022-10-02T07:16:47.497011Z"
    },
    "papermill": {
     "duration": 0.033348,
     "end_time": "2022-10-02T07:16:47.500725",
     "exception": false,
     "start_time": "2022-10-02T07:16:47.467377",
     "status": "completed"
    },
    "tags": []
   },
   "outputs": [
    {
     "name": "stdout",
     "output_type": "stream",
     "text": [
      "Date\n",
      "Symbol\n",
      "Series\n",
      "Prev Close\n",
      "Open\n",
      "High\n",
      "Low\n",
      "Last\n",
      "Close\n",
      "VWAP\n",
      "Volume\n",
      "Turnover\n",
      "Trades\n",
      "Deliverable Volume\n",
      "%Deliverble\n"
     ]
    }
   ],
   "source": [
    "for col in df.columns:\n",
    "    print(col)"
   ]
  },
  {
   "cell_type": "markdown",
   "metadata": {
    "execution": {
     "iopub.execute_input": "2022-10-02T07:16:47.553873Z",
     "iopub.status.busy": "2022-10-02T07:16:47.553148Z",
     "iopub.status.idle": "2022-10-02T07:16:47.563218Z",
     "shell.execute_reply": "2022-10-02T07:16:47.562036Z"
    },
    "papermill": {
     "duration": 0.039237,
     "end_time": "2022-10-02T07:16:47.565671",
     "exception": false,
     "start_time": "2022-10-02T07:16:47.526434",
     "status": "completed"
    },
    "tags": []
   },
   "source": [
    "Display values of Open column"
   ]
  },
  {
   "cell_type": "code",
   "execution_count": 5,
   "metadata": {},
   "outputs": [
    {
     "data": {
      "text/plain": [
       "0       1198.70\n",
       "1        992.00\n",
       "2        982.40\n",
       "3        969.90\n",
       "4        986.50\n",
       "         ...   \n",
       "4134    3102.05\n",
       "4135    3106.00\n",
       "4136    3149.95\n",
       "4137    3145.60\n",
       "4138    3099.00\n",
       "Name: Open, Length: 4139, dtype: float64"
      ]
     },
     "execution_count": 5,
     "metadata": {},
     "output_type": "execute_result"
    }
   ],
   "source": [
    "df['Open']"
   ]
  },
  {
   "cell_type": "markdown",
   "metadata": {
    "papermill": {
     "duration": 0.017755,
     "end_time": "2022-10-02T07:16:47.727751",
     "exception": false,
     "start_time": "2022-10-02T07:16:47.709996",
     "status": "completed"
    },
    "tags": []
   },
   "source": [
    "A general stastistical description of the dataset columns in a nutshell "
   ]
  },
  {
   "cell_type": "code",
   "execution_count": 6,
   "metadata": {
    "execution": {
     "iopub.execute_input": "2022-10-02T07:16:47.765595Z",
     "iopub.status.busy": "2022-10-02T07:16:47.765191Z",
     "iopub.status.idle": "2022-10-02T07:16:47.817012Z",
     "shell.execute_reply": "2022-10-02T07:16:47.815831Z"
    },
    "papermill": {
     "duration": 0.073608,
     "end_time": "2022-10-02T07:16:47.819641",
     "exception": false,
     "start_time": "2022-10-02T07:16:47.746033",
     "status": "completed"
    },
    "tags": []
   },
   "outputs": [
    {
     "data": {
      "text/html": [
       "<div>\n",
       "<style scoped>\n",
       "    .dataframe tbody tr th:only-of-type {\n",
       "        vertical-align: middle;\n",
       "    }\n",
       "\n",
       "    .dataframe tbody tr th {\n",
       "        vertical-align: top;\n",
       "    }\n",
       "\n",
       "    .dataframe thead th {\n",
       "        text-align: right;\n",
       "    }\n",
       "</style>\n",
       "<table border=\"1\" class=\"dataframe\">\n",
       "  <thead>\n",
       "    <tr style=\"text-align: right;\">\n",
       "      <th></th>\n",
       "      <th>count</th>\n",
       "      <th>mean</th>\n",
       "      <th>std</th>\n",
       "      <th>min</th>\n",
       "      <th>25%</th>\n",
       "      <th>50%</th>\n",
       "      <th>75%</th>\n",
       "      <th>max</th>\n",
       "    </tr>\n",
       "  </thead>\n",
       "  <tbody>\n",
       "    <tr>\n",
       "      <th>Prev Close</th>\n",
       "      <td>4139.0</td>\n",
       "      <td>1.693844e+03</td>\n",
       "      <td>7.228793e+02</td>\n",
       "      <td>3.666500e+02</td>\n",
       "      <td>1.106250e+03</td>\n",
       "      <td>1.633500e+03</td>\n",
       "      <td>2.326125e+03</td>\n",
       "      <td>3.603700e+03</td>\n",
       "    </tr>\n",
       "    <tr>\n",
       "      <th>Open</th>\n",
       "      <td>4139.0</td>\n",
       "      <td>1.695594e+03</td>\n",
       "      <td>7.229782e+02</td>\n",
       "      <td>3.600000e+02</td>\n",
       "      <td>1.105525e+03</td>\n",
       "      <td>1.625000e+03</td>\n",
       "      <td>2.321800e+03</td>\n",
       "      <td>3.625000e+03</td>\n",
       "    </tr>\n",
       "    <tr>\n",
       "      <th>High</th>\n",
       "      <td>4139.0</td>\n",
       "      <td>1.715882e+03</td>\n",
       "      <td>7.284501e+02</td>\n",
       "      <td>3.777500e+02</td>\n",
       "      <td>1.120275e+03</td>\n",
       "      <td>1.655000e+03</td>\n",
       "      <td>2.345000e+03</td>\n",
       "      <td>3.674800e+03</td>\n",
       "    </tr>\n",
       "    <tr>\n",
       "      <th>Low</th>\n",
       "      <td>4139.0</td>\n",
       "      <td>1.673586e+03</td>\n",
       "      <td>7.177802e+02</td>\n",
       "      <td>3.580000e+02</td>\n",
       "      <td>1.088575e+03</td>\n",
       "      <td>1.610000e+03</td>\n",
       "      <td>2.301300e+03</td>\n",
       "      <td>3.572550e+03</td>\n",
       "    </tr>\n",
       "    <tr>\n",
       "      <th>Last</th>\n",
       "      <td>4139.0</td>\n",
       "      <td>1.694310e+03</td>\n",
       "      <td>7.231779e+02</td>\n",
       "      <td>3.657000e+02</td>\n",
       "      <td>1.107000e+03</td>\n",
       "      <td>1.630050e+03</td>\n",
       "      <td>2.325000e+03</td>\n",
       "      <td>3.610750e+03</td>\n",
       "    </tr>\n",
       "    <tr>\n",
       "      <th>Close</th>\n",
       "      <td>4139.0</td>\n",
       "      <td>1.694372e+03</td>\n",
       "      <td>7.230610e+02</td>\n",
       "      <td>3.666500e+02</td>\n",
       "      <td>1.106500e+03</td>\n",
       "      <td>1.636350e+03</td>\n",
       "      <td>2.326850e+03</td>\n",
       "      <td>3.603700e+03</td>\n",
       "    </tr>\n",
       "    <tr>\n",
       "      <th>VWAP</th>\n",
       "      <td>4139.0</td>\n",
       "      <td>1.694618e+03</td>\n",
       "      <td>7.231442e+02</td>\n",
       "      <td>3.684000e+02</td>\n",
       "      <td>1.105750e+03</td>\n",
       "      <td>1.629420e+03</td>\n",
       "      <td>2.319895e+03</td>\n",
       "      <td>3.633110e+03</td>\n",
       "    </tr>\n",
       "    <tr>\n",
       "      <th>Volume</th>\n",
       "      <td>4139.0</td>\n",
       "      <td>1.676762e+06</td>\n",
       "      <td>1.607879e+06</td>\n",
       "      <td>1.834500e+04</td>\n",
       "      <td>7.884775e+05</td>\n",
       "      <td>1.227748e+06</td>\n",
       "      <td>2.081120e+06</td>\n",
       "      <td>4.403358e+07</td>\n",
       "    </tr>\n",
       "    <tr>\n",
       "      <th>Turnover</th>\n",
       "      <td>4139.0</td>\n",
       "      <td>2.952102e+14</td>\n",
       "      <td>3.849370e+14</td>\n",
       "      <td>1.370237e+12</td>\n",
       "      <td>1.050834e+14</td>\n",
       "      <td>1.824973e+14</td>\n",
       "      <td>3.455393e+14</td>\n",
       "      <td>1.268362e+16</td>\n",
       "    </tr>\n",
       "    <tr>\n",
       "      <th>Trades</th>\n",
       "      <td>2456.0</td>\n",
       "      <td>8.550271e+04</td>\n",
       "      <td>5.603149e+04</td>\n",
       "      <td>1.219000e+03</td>\n",
       "      <td>4.674950e+04</td>\n",
       "      <td>6.890100e+04</td>\n",
       "      <td>1.106302e+05</td>\n",
       "      <td>5.425410e+05</td>\n",
       "    </tr>\n",
       "    <tr>\n",
       "      <th>Deliverable Volume</th>\n",
       "      <td>4139.0</td>\n",
       "      <td>8.952206e+05</td>\n",
       "      <td>8.637908e+05</td>\n",
       "      <td>7.765000e+03</td>\n",
       "      <td>4.334740e+05</td>\n",
       "      <td>7.052640e+05</td>\n",
       "      <td>1.136132e+06</td>\n",
       "      <td>3.155626e+07</td>\n",
       "    </tr>\n",
       "    <tr>\n",
       "      <th>%Deliverble</th>\n",
       "      <td>4139.0</td>\n",
       "      <td>5.494288e-01</td>\n",
       "      <td>1.328673e-01</td>\n",
       "      <td>1.214000e-01</td>\n",
       "      <td>4.591000e-01</td>\n",
       "      <td>5.538000e-01</td>\n",
       "      <td>6.468500e-01</td>\n",
       "      <td>9.622000e-01</td>\n",
       "    </tr>\n",
       "  </tbody>\n",
       "</table>\n",
       "</div>"
      ],
      "text/plain": [
       "                     count          mean           std           min  \\\n",
       "Prev Close          4139.0  1.693844e+03  7.228793e+02  3.666500e+02   \n",
       "Open                4139.0  1.695594e+03  7.229782e+02  3.600000e+02   \n",
       "High                4139.0  1.715882e+03  7.284501e+02  3.777500e+02   \n",
       "Low                 4139.0  1.673586e+03  7.177802e+02  3.580000e+02   \n",
       "Last                4139.0  1.694310e+03  7.231779e+02  3.657000e+02   \n",
       "Close               4139.0  1.694372e+03  7.230610e+02  3.666500e+02   \n",
       "VWAP                4139.0  1.694618e+03  7.231442e+02  3.684000e+02   \n",
       "Volume              4139.0  1.676762e+06  1.607879e+06  1.834500e+04   \n",
       "Turnover            4139.0  2.952102e+14  3.849370e+14  1.370237e+12   \n",
       "Trades              2456.0  8.550271e+04  5.603149e+04  1.219000e+03   \n",
       "Deliverable Volume  4139.0  8.952206e+05  8.637908e+05  7.765000e+03   \n",
       "%Deliverble         4139.0  5.494288e-01  1.328673e-01  1.214000e-01   \n",
       "\n",
       "                             25%           50%           75%           max  \n",
       "Prev Close          1.106250e+03  1.633500e+03  2.326125e+03  3.603700e+03  \n",
       "Open                1.105525e+03  1.625000e+03  2.321800e+03  3.625000e+03  \n",
       "High                1.120275e+03  1.655000e+03  2.345000e+03  3.674800e+03  \n",
       "Low                 1.088575e+03  1.610000e+03  2.301300e+03  3.572550e+03  \n",
       "Last                1.107000e+03  1.630050e+03  2.325000e+03  3.610750e+03  \n",
       "Close               1.106500e+03  1.636350e+03  2.326850e+03  3.603700e+03  \n",
       "VWAP                1.105750e+03  1.629420e+03  2.319895e+03  3.633110e+03  \n",
       "Volume              7.884775e+05  1.227748e+06  2.081120e+06  4.403358e+07  \n",
       "Turnover            1.050834e+14  1.824973e+14  3.455393e+14  1.268362e+16  \n",
       "Trades              4.674950e+04  6.890100e+04  1.106302e+05  5.425410e+05  \n",
       "Deliverable Volume  4.334740e+05  7.052640e+05  1.136132e+06  3.155626e+07  \n",
       "%Deliverble         4.591000e-01  5.538000e-01  6.468500e-01  9.622000e-01  "
      ]
     },
     "execution_count": 6,
     "metadata": {},
     "output_type": "execute_result"
    }
   ],
   "source": [
    "df.describe().T"
   ]
  },
  {
   "cell_type": "markdown",
   "metadata": {
    "papermill": {
     "duration": 0.017959,
     "end_time": "2022-10-02T07:16:47.856294",
     "exception": false,
     "start_time": "2022-10-02T07:16:47.838335",
     "status": "completed"
    },
    "tags": []
   },
   "source": [
    "Defining the **Correlation matrix**"
   ]
  },
  {
   "cell_type": "code",
   "execution_count": 7,
   "metadata": {
    "execution": {
     "iopub.execute_input": "2022-10-02T07:16:47.898413Z",
     "iopub.status.busy": "2022-10-02T07:16:47.897091Z",
     "iopub.status.idle": "2022-10-02T07:16:47.924180Z",
     "shell.execute_reply": "2022-10-02T07:16:47.923007Z"
    },
    "papermill": {
     "duration": 0.052429,
     "end_time": "2022-10-02T07:16:47.926746",
     "exception": false,
     "start_time": "2022-10-02T07:16:47.874317",
     "status": "completed"
    },
    "scrolled": true,
    "tags": []
   },
   "outputs": [
    {
     "data": {
      "text/html": [
       "<div>\n",
       "<style scoped>\n",
       "    .dataframe tbody tr th:only-of-type {\n",
       "        vertical-align: middle;\n",
       "    }\n",
       "\n",
       "    .dataframe tbody tr th {\n",
       "        vertical-align: top;\n",
       "    }\n",
       "\n",
       "    .dataframe thead th {\n",
       "        text-align: right;\n",
       "    }\n",
       "</style>\n",
       "<table border=\"1\" class=\"dataframe\">\n",
       "  <thead>\n",
       "    <tr style=\"text-align: right;\">\n",
       "      <th></th>\n",
       "      <th>Prev Close</th>\n",
       "      <th>Open</th>\n",
       "      <th>High</th>\n",
       "      <th>Low</th>\n",
       "      <th>Last</th>\n",
       "      <th>Close</th>\n",
       "      <th>VWAP</th>\n",
       "      <th>Volume</th>\n",
       "      <th>Turnover</th>\n",
       "      <th>Trades</th>\n",
       "      <th>Deliverable Volume</th>\n",
       "      <th>%Deliverble</th>\n",
       "    </tr>\n",
       "  </thead>\n",
       "  <tbody>\n",
       "    <tr>\n",
       "      <th>Prev Close</th>\n",
       "      <td>1.000000</td>\n",
       "      <td>0.998782</td>\n",
       "      <td>0.998465</td>\n",
       "      <td>0.998480</td>\n",
       "      <td>0.998124</td>\n",
       "      <td>0.998135</td>\n",
       "      <td>0.998460</td>\n",
       "      <td>0.095107</td>\n",
       "      <td>0.419651</td>\n",
       "      <td>0.191815</td>\n",
       "      <td>0.093713</td>\n",
       "      <td>0.179415</td>\n",
       "    </tr>\n",
       "    <tr>\n",
       "      <th>Open</th>\n",
       "      <td>0.998782</td>\n",
       "      <td>1.000000</td>\n",
       "      <td>0.999578</td>\n",
       "      <td>0.999563</td>\n",
       "      <td>0.999189</td>\n",
       "      <td>0.999206</td>\n",
       "      <td>0.999527</td>\n",
       "      <td>0.094517</td>\n",
       "      <td>0.419111</td>\n",
       "      <td>0.190059</td>\n",
       "      <td>0.090569</td>\n",
       "      <td>0.177790</td>\n",
       "    </tr>\n",
       "    <tr>\n",
       "      <th>High</th>\n",
       "      <td>0.998465</td>\n",
       "      <td>0.999578</td>\n",
       "      <td>1.000000</td>\n",
       "      <td>0.999459</td>\n",
       "      <td>0.999623</td>\n",
       "      <td>0.999645</td>\n",
       "      <td>0.999801</td>\n",
       "      <td>0.100668</td>\n",
       "      <td>0.424433</td>\n",
       "      <td>0.200347</td>\n",
       "      <td>0.094585</td>\n",
       "      <td>0.173946</td>\n",
       "    </tr>\n",
       "    <tr>\n",
       "      <th>Low</th>\n",
       "      <td>0.998480</td>\n",
       "      <td>0.999563</td>\n",
       "      <td>0.999459</td>\n",
       "      <td>1.000000</td>\n",
       "      <td>0.999628</td>\n",
       "      <td>0.999651</td>\n",
       "      <td>0.999811</td>\n",
       "      <td>0.090022</td>\n",
       "      <td>0.415576</td>\n",
       "      <td>0.180134</td>\n",
       "      <td>0.086493</td>\n",
       "      <td>0.178865</td>\n",
       "    </tr>\n",
       "    <tr>\n",
       "      <th>Last</th>\n",
       "      <td>0.998124</td>\n",
       "      <td>0.999189</td>\n",
       "      <td>0.999623</td>\n",
       "      <td>0.999628</td>\n",
       "      <td>1.000000</td>\n",
       "      <td>0.999981</td>\n",
       "      <td>0.999859</td>\n",
       "      <td>0.095354</td>\n",
       "      <td>0.420035</td>\n",
       "      <td>0.190200</td>\n",
       "      <td>0.090091</td>\n",
       "      <td>0.175591</td>\n",
       "    </tr>\n",
       "    <tr>\n",
       "      <th>Close</th>\n",
       "      <td>0.998135</td>\n",
       "      <td>0.999206</td>\n",
       "      <td>0.999645</td>\n",
       "      <td>0.999651</td>\n",
       "      <td>0.999981</td>\n",
       "      <td>1.000000</td>\n",
       "      <td>0.999885</td>\n",
       "      <td>0.095337</td>\n",
       "      <td>0.420005</td>\n",
       "      <td>0.189980</td>\n",
       "      <td>0.090085</td>\n",
       "      <td>0.175683</td>\n",
       "    </tr>\n",
       "    <tr>\n",
       "      <th>VWAP</th>\n",
       "      <td>0.998460</td>\n",
       "      <td>0.999527</td>\n",
       "      <td>0.999801</td>\n",
       "      <td>0.999811</td>\n",
       "      <td>0.999859</td>\n",
       "      <td>0.999885</td>\n",
       "      <td>1.000000</td>\n",
       "      <td>0.095171</td>\n",
       "      <td>0.419924</td>\n",
       "      <td>0.190386</td>\n",
       "      <td>0.090017</td>\n",
       "      <td>0.175794</td>\n",
       "    </tr>\n",
       "    <tr>\n",
       "      <th>Volume</th>\n",
       "      <td>0.095107</td>\n",
       "      <td>0.094517</td>\n",
       "      <td>0.100668</td>\n",
       "      <td>0.090022</td>\n",
       "      <td>0.095354</td>\n",
       "      <td>0.095337</td>\n",
       "      <td>0.095171</td>\n",
       "      <td>1.000000</td>\n",
       "      <td>0.883537</td>\n",
       "      <td>0.812354</td>\n",
       "      <td>0.896491</td>\n",
       "      <td>-0.120727</td>\n",
       "    </tr>\n",
       "    <tr>\n",
       "      <th>Turnover</th>\n",
       "      <td>0.419651</td>\n",
       "      <td>0.419111</td>\n",
       "      <td>0.424433</td>\n",
       "      <td>0.415576</td>\n",
       "      <td>0.420035</td>\n",
       "      <td>0.420005</td>\n",
       "      <td>0.419924</td>\n",
       "      <td>0.883537</td>\n",
       "      <td>1.000000</td>\n",
       "      <td>0.768215</td>\n",
       "      <td>0.786355</td>\n",
       "      <td>-0.094231</td>\n",
       "    </tr>\n",
       "    <tr>\n",
       "      <th>Trades</th>\n",
       "      <td>0.191815</td>\n",
       "      <td>0.190059</td>\n",
       "      <td>0.200347</td>\n",
       "      <td>0.180134</td>\n",
       "      <td>0.190200</td>\n",
       "      <td>0.189980</td>\n",
       "      <td>0.190386</td>\n",
       "      <td>0.812354</td>\n",
       "      <td>0.768215</td>\n",
       "      <td>1.000000</td>\n",
       "      <td>0.633869</td>\n",
       "      <td>-0.347938</td>\n",
       "    </tr>\n",
       "    <tr>\n",
       "      <th>Deliverable Volume</th>\n",
       "      <td>0.093713</td>\n",
       "      <td>0.090569</td>\n",
       "      <td>0.094585</td>\n",
       "      <td>0.086493</td>\n",
       "      <td>0.090091</td>\n",
       "      <td>0.090085</td>\n",
       "      <td>0.090017</td>\n",
       "      <td>0.896491</td>\n",
       "      <td>0.786355</td>\n",
       "      <td>0.633869</td>\n",
       "      <td>1.000000</td>\n",
       "      <td>0.170419</td>\n",
       "    </tr>\n",
       "    <tr>\n",
       "      <th>%Deliverble</th>\n",
       "      <td>0.179415</td>\n",
       "      <td>0.177790</td>\n",
       "      <td>0.173946</td>\n",
       "      <td>0.178865</td>\n",
       "      <td>0.175591</td>\n",
       "      <td>0.175683</td>\n",
       "      <td>0.175794</td>\n",
       "      <td>-0.120727</td>\n",
       "      <td>-0.094231</td>\n",
       "      <td>-0.347938</td>\n",
       "      <td>0.170419</td>\n",
       "      <td>1.000000</td>\n",
       "    </tr>\n",
       "  </tbody>\n",
       "</table>\n",
       "</div>"
      ],
      "text/plain": [
       "                    Prev Close      Open      High       Low      Last  \\\n",
       "Prev Close            1.000000  0.998782  0.998465  0.998480  0.998124   \n",
       "Open                  0.998782  1.000000  0.999578  0.999563  0.999189   \n",
       "High                  0.998465  0.999578  1.000000  0.999459  0.999623   \n",
       "Low                   0.998480  0.999563  0.999459  1.000000  0.999628   \n",
       "Last                  0.998124  0.999189  0.999623  0.999628  1.000000   \n",
       "Close                 0.998135  0.999206  0.999645  0.999651  0.999981   \n",
       "VWAP                  0.998460  0.999527  0.999801  0.999811  0.999859   \n",
       "Volume                0.095107  0.094517  0.100668  0.090022  0.095354   \n",
       "Turnover              0.419651  0.419111  0.424433  0.415576  0.420035   \n",
       "Trades                0.191815  0.190059  0.200347  0.180134  0.190200   \n",
       "Deliverable Volume    0.093713  0.090569  0.094585  0.086493  0.090091   \n",
       "%Deliverble           0.179415  0.177790  0.173946  0.178865  0.175591   \n",
       "\n",
       "                       Close      VWAP    Volume  Turnover    Trades  \\\n",
       "Prev Close          0.998135  0.998460  0.095107  0.419651  0.191815   \n",
       "Open                0.999206  0.999527  0.094517  0.419111  0.190059   \n",
       "High                0.999645  0.999801  0.100668  0.424433  0.200347   \n",
       "Low                 0.999651  0.999811  0.090022  0.415576  0.180134   \n",
       "Last                0.999981  0.999859  0.095354  0.420035  0.190200   \n",
       "Close               1.000000  0.999885  0.095337  0.420005  0.189980   \n",
       "VWAP                0.999885  1.000000  0.095171  0.419924  0.190386   \n",
       "Volume              0.095337  0.095171  1.000000  0.883537  0.812354   \n",
       "Turnover            0.420005  0.419924  0.883537  1.000000  0.768215   \n",
       "Trades              0.189980  0.190386  0.812354  0.768215  1.000000   \n",
       "Deliverable Volume  0.090085  0.090017  0.896491  0.786355  0.633869   \n",
       "%Deliverble         0.175683  0.175794 -0.120727 -0.094231 -0.347938   \n",
       "\n",
       "                    Deliverable Volume  %Deliverble  \n",
       "Prev Close                    0.093713     0.179415  \n",
       "Open                          0.090569     0.177790  \n",
       "High                          0.094585     0.173946  \n",
       "Low                           0.086493     0.178865  \n",
       "Last                          0.090091     0.175591  \n",
       "Close                         0.090085     0.175683  \n",
       "VWAP                          0.090017     0.175794  \n",
       "Volume                        0.896491    -0.120727  \n",
       "Turnover                      0.786355    -0.094231  \n",
       "Trades                        0.633869    -0.347938  \n",
       "Deliverable Volume            1.000000     0.170419  \n",
       "%Deliverble                   0.170419     1.000000  "
      ]
     },
     "execution_count": 7,
     "metadata": {},
     "output_type": "execute_result"
    }
   ],
   "source": [
    "dfcorr = df.corr()\n",
    "dfcorr"
   ]
  },
  {
   "cell_type": "markdown",
   "metadata": {
    "papermill": {
     "duration": 0.018447,
     "end_time": "2022-10-02T07:16:47.964285",
     "exception": false,
     "start_time": "2022-10-02T07:16:47.945838",
     "status": "completed"
    },
    "tags": []
   },
   "source": [
    "Plotting the **Correlation Matrix**"
   ]
  },
  {
   "cell_type": "code",
   "execution_count": 8,
   "metadata": {
    "execution": {
     "iopub.execute_input": "2022-10-02T07:16:48.006149Z",
     "iopub.status.busy": "2022-10-02T07:16:48.005481Z",
     "iopub.status.idle": "2022-10-02T07:16:49.006213Z",
     "shell.execute_reply": "2022-10-02T07:16:49.004989Z"
    },
    "papermill": {
     "duration": 1.023886,
     "end_time": "2022-10-02T07:16:49.009389",
     "exception": false,
     "start_time": "2022-10-02T07:16:47.985503",
     "status": "completed"
    },
    "tags": []
   },
   "outputs": [
    {
     "data": {
      "text/plain": [
       "<matplotlib.axes._subplots.AxesSubplot at 0x22ebb394f88>"
      ]
     },
     "execution_count": 8,
     "metadata": {},
     "output_type": "execute_result"
    },
    {
     "data": {
      "image/png": "[encoded data removed]",
      "text/plain": [
       "<Figure size 720x720 with 2 Axes>"
      ]
     },
     "metadata": {
      "needs_background": "light"
     },
     "output_type": "display_data"
    }
   ],
   "source": [
    "plt.figure(figsize=(10, 10))\n",
    "sns.heatmap(df.corr(), cmap=\"OrRd\", annot=True)"
   ]
  },
  {
   "cell_type": "markdown",
   "metadata": {
    "papermill": {
     "duration": 0.022092,
     "end_time": "2022-10-02T07:16:49.894140",
     "exception": false,
     "start_time": "2022-10-02T07:16:49.872048",
     "status": "completed"
    },
    "tags": []
   },
   "source": [
    "Dates when the company opened with top 3 opening price"
   ]
  },
  {
   "cell_type": "code",
   "execution_count": 9,
   "metadata": {
    "execution": {
     "iopub.execute_input": "2022-10-02T07:16:49.941302Z",
     "iopub.status.busy": "2022-10-02T07:16:49.940891Z",
     "iopub.status.idle": "2022-10-02T07:16:49.963519Z",
     "shell.execute_reply": "2022-10-02T07:16:49.962712Z"
    },
    "papermill": {
     "duration": 0.048525,
     "end_time": "2022-10-02T07:16:49.965757",
     "exception": false,
     "start_time": "2022-10-02T07:16:49.917232",
     "status": "completed"
    },
    "tags": []
   },
   "outputs": [
    {
     "data": {
      "text/html": [
       "<div>\n",
       "<style scoped>\n",
       "    .dataframe tbody tr th:only-of-type {\n",
       "        vertical-align: middle;\n",
       "    }\n",
       "\n",
       "    .dataframe tbody tr th {\n",
       "        vertical-align: top;\n",
       "    }\n",
       "\n",
       "    .dataframe thead th {\n",
       "        text-align: right;\n",
       "    }\n",
       "</style>\n",
       "<table border=\"1\" class=\"dataframe\">\n",
       "  <thead>\n",
       "    <tr style=\"text-align: right;\">\n",
       "      <th></th>\n",
       "      <th>Date</th>\n",
       "      <th>Symbol</th>\n",
       "      <th>Series</th>\n",
       "      <th>Prev Close</th>\n",
       "      <th>Open</th>\n",
       "      <th>High</th>\n",
       "      <th>Low</th>\n",
       "      <th>Last</th>\n",
       "      <th>Close</th>\n",
       "      <th>VWAP</th>\n",
       "      <th>Volume</th>\n",
       "      <th>Turnover</th>\n",
       "      <th>Trades</th>\n",
       "      <th>Deliverable Volume</th>\n",
       "      <th>%Deliverble</th>\n",
       "    </tr>\n",
       "  </thead>\n",
       "  <tbody>\n",
       "    <tr>\n",
       "      <th>3414</th>\n",
       "      <td>2018-05-25</td>\n",
       "      <td>TCS</td>\n",
       "      <td>EQ</td>\n",
       "      <td>3603.70</td>\n",
       "      <td>3625.0</td>\n",
       "      <td>3674.80</td>\n",
       "      <td>3572.55</td>\n",
       "      <td>3589.90</td>\n",
       "      <td>3585.80</td>\n",
       "      <td>3633.11</td>\n",
       "      <td>1884886</td>\n",
       "      <td>6.848001e+14</td>\n",
       "      <td>142355.0</td>\n",
       "      <td>954659</td>\n",
       "      <td>0.5065</td>\n",
       "    </tr>\n",
       "    <tr>\n",
       "      <th>3415</th>\n",
       "      <td>2018-05-28</td>\n",
       "      <td>TCS</td>\n",
       "      <td>EQ</td>\n",
       "      <td>3585.80</td>\n",
       "      <td>3616.5</td>\n",
       "      <td>3616.50</td>\n",
       "      <td>3486.00</td>\n",
       "      <td>3499.35</td>\n",
       "      <td>3502.05</td>\n",
       "      <td>3516.38</td>\n",
       "      <td>1858399</td>\n",
       "      <td>6.534828e+14</td>\n",
       "      <td>142950.0</td>\n",
       "      <td>1041835</td>\n",
       "      <td>0.5606</td>\n",
       "    </tr>\n",
       "    <tr>\n",
       "      <th>3411</th>\n",
       "      <td>2018-05-22</td>\n",
       "      <td>TCS</td>\n",
       "      <td>EQ</td>\n",
       "      <td>3556.75</td>\n",
       "      <td>3558.0</td>\n",
       "      <td>3574.95</td>\n",
       "      <td>3493.70</td>\n",
       "      <td>3514.40</td>\n",
       "      <td>3508.90</td>\n",
       "      <td>3520.43</td>\n",
       "      <td>928708</td>\n",
       "      <td>3.269453e+14</td>\n",
       "      <td>71360.0</td>\n",
       "      <td>523307</td>\n",
       "      <td>0.5635</td>\n",
       "    </tr>\n",
       "  </tbody>\n",
       "</table>\n",
       "</div>"
      ],
      "text/plain": [
       "            Date Symbol Series  Prev Close    Open     High      Low     Last  \\\n",
       "3414  2018-05-25    TCS     EQ     3603.70  3625.0  3674.80  3572.55  3589.90   \n",
       "3415  2018-05-28    TCS     EQ     3585.80  3616.5  3616.50  3486.00  3499.35   \n",
       "3411  2018-05-22    TCS     EQ     3556.75  3558.0  3574.95  3493.70  3514.40   \n",
       "\n",
       "        Close     VWAP   Volume      Turnover    Trades  Deliverable Volume  \\\n",
       "3414  3585.80  3633.11  1884886  6.848001e+14  142355.0              954659   \n",
       "3415  3502.05  3516.38  1858399  6.534828e+14  142950.0             1041835   \n",
       "3411  3508.90  3520.43   928708  3.269453e+14   71360.0              523307   \n",
       "\n",
       "      %Deliverble  \n",
       "3414       0.5065  \n",
       "3415       0.5606  \n",
       "3411       0.5635  "
      ]
     },
     "execution_count": 9,
     "metadata": {},
     "output_type": "execute_result"
    }
   ],
   "source": [
    "df.nlargest(3,'Open')"
   ]
  },
  {
   "cell_type": "markdown",
   "metadata": {
    "papermill": {
     "duration": 0.022124,
     "end_time": "2022-10-02T07:16:50.010351",
     "exception": false,
     "start_time": "2022-10-02T07:16:49.988227",
     "status": "completed"
    },
    "tags": []
   },
   "source": [
    "Display only the date column"
   ]
  },
  {
   "cell_type": "code",
   "execution_count": 10,
   "metadata": {
    "execution": {
     "iopub.execute_input": "2022-10-02T07:16:50.057568Z",
     "iopub.status.busy": "2022-10-02T07:16:50.056591Z",
     "iopub.status.idle": "2022-10-02T07:16:50.076936Z",
     "shell.execute_reply": "2022-10-02T07:16:50.075718Z"
    },
    "papermill": {
     "duration": 0.046577,
     "end_time": "2022-10-02T07:16:50.079371",
     "exception": false,
     "start_time": "2022-10-02T07:16:50.032794",
     "status": "completed"
    },
    "tags": []
   },
   "outputs": [
    {
     "data": {
      "text/plain": [
       "3414    2018-05-25\n",
       "3415    2018-05-28\n",
       "3411    2018-05-22\n",
       "Name: Date, dtype: object"
      ]
     },
     "execution_count": 10,
     "metadata": {},
     "output_type": "execute_result"
    }
   ],
   "source": [
    "df.nlargest(3,'Open')['Date']"
   ]
  },
  {
   "cell_type": "code",
   "execution_count": 11,
   "metadata": {
    "execution": {
     "iopub.execute_input": "2022-10-02T07:16:58.156460Z",
     "iopub.status.busy": "2022-10-02T07:16:58.155621Z",
     "iopub.status.idle": "2022-10-02T07:16:58.163262Z",
     "shell.execute_reply": "2022-10-02T07:16:58.161968Z"
    },
    "papermill": {
     "duration": 0.057158,
     "end_time": "2022-10-02T07:16:58.165864",
     "exception": false,
     "start_time": "2022-10-02T07:16:58.108706",
     "status": "completed"
    },
    "tags": []
   },
   "outputs": [
    {
     "name": "stdout",
     "output_type": "stream",
     "text": [
      "The variance of opening prices is:  522697.5186152657\n",
      "The standard deviation of opening prices is:  722.9782283134574\n"
     ]
    }
   ],
   "source": [
    "print(\"The variance of opening prices is: \",df['Open'].var())\n",
    "print(\"The standard deviation of opening prices is: \",df['Open'].std())"
   ]
  },
  {
   "cell_type": "markdown",
   "metadata": {},
   "source": [
    "Selecting observations for 100 days period using slicing"
   ]
  },
  {
   "cell_type": "code",
   "execution_count": 12,
   "metadata": {},
   "outputs": [],
   "source": [
    "df_100 = df[0:100].copy()"
   ]
  },
  {
   "cell_type": "markdown",
   "metadata": {},
   "source": [
    "Creating a new column that computes the mean of the highest and lowest stock prices."
   ]
  },
  {
   "cell_type": "code",
   "execution_count": 13,
   "metadata": {},
   "outputs": [],
   "source": [
    "df_100[\"Average\"] = (df_100[\"High\"]+df_100[\"Low\"])/2"
   ]
  },
  {
   "cell_type": "code",
   "execution_count": 14,
   "metadata": {},
   "outputs": [
    {
     "data": {
      "text/plain": [
       "Index(['Date', 'Symbol', 'Series', 'Prev Close', 'Open', 'High', 'Low', 'Last',\n",
       "       'Close', 'VWAP', 'Volume', 'Turnover', 'Trades', 'Deliverable Volume',\n",
       "       '%Deliverble', 'Average'],\n",
       "      dtype='object')"
      ]
     },
     "execution_count": 14,
     "metadata": {},
     "output_type": "execute_result"
    }
   ],
   "source": [
    "df_100.columns\n"
   ]
  },
  {
   "cell_type": "markdown",
   "metadata": {},
   "source": [
    "Now we plot the highest traded price of the stocks for 100 different days."
   ]
  },
  {
   "cell_type": "code",
   "execution_count": 15,
   "metadata": {},
   "outputs": [
    {
     "data": {
      "image/png": "[encoded data removed]",
      "text/plain": [
       "<Figure size 2880x720 with 1 Axes>"
      ]
     },
     "metadata": {
      "needs_background": "light"
     },
     "output_type": "display_data"
    }
   ],
   "source": [
    "plt.figure(figsize=(40, 10))\n",
    "plt.plot(df_100['Date'], df_100['High'])\n",
    "plt.xlabel(\"Date\")\n",
    "plt.ylabel(\"Opening price\")\n",
    "plt.xticks(rotation = 45)\n",
    "plt.show()"
   ]
  },
  {
   "cell_type": "markdown",
   "metadata": {},
   "source": [
    "Interestingly stocks with maximum or mimimum change don't seem to do the same with their percentage change. A reason for this could be the gap between the opening and closing prices."
   ]
  },
  {
   "cell_type": "markdown",
   "metadata": {},
   "source": [
    "A look at the interested subset of the dataset for plotting the statistical distribution of the data."
   ]
  },
  {
   "cell_type": "code",
   "execution_count": 16,
   "metadata": {},
   "outputs": [
    {
     "data": {
      "text/html": [
       "<div>\n",
       "<style scoped>\n",
       "    .dataframe tbody tr th:only-of-type {\n",
       "        vertical-align: middle;\n",
       "    }\n",
       "\n",
       "    .dataframe tbody tr th {\n",
       "        vertical-align: top;\n",
       "    }\n",
       "\n",
       "    .dataframe thead th {\n",
       "        text-align: right;\n",
       "    }\n",
       "</style>\n",
       "<table border=\"1\" class=\"dataframe\">\n",
       "  <thead>\n",
       "    <tr style=\"text-align: right;\">\n",
       "      <th></th>\n",
       "      <th>High</th>\n",
       "      <th>Symbol</th>\n",
       "      <th>Low</th>\n",
       "      <th>Open</th>\n",
       "    </tr>\n",
       "  </thead>\n",
       "  <tbody>\n",
       "    <tr>\n",
       "      <th>0</th>\n",
       "      <td>1198.7</td>\n",
       "      <td>TCS</td>\n",
       "      <td>979.00</td>\n",
       "      <td>1198.7</td>\n",
       "    </tr>\n",
       "    <tr>\n",
       "      <th>1</th>\n",
       "      <td>997.0</td>\n",
       "      <td>TCS</td>\n",
       "      <td>975.30</td>\n",
       "      <td>992.0</td>\n",
       "    </tr>\n",
       "    <tr>\n",
       "      <th>2</th>\n",
       "      <td>982.4</td>\n",
       "      <td>TCS</td>\n",
       "      <td>958.55</td>\n",
       "      <td>982.4</td>\n",
       "    </tr>\n",
       "    <tr>\n",
       "      <th>3</th>\n",
       "      <td>990.0</td>\n",
       "      <td>TCS</td>\n",
       "      <td>965.00</td>\n",
       "      <td>969.9</td>\n",
       "    </tr>\n",
       "    <tr>\n",
       "      <th>4</th>\n",
       "      <td>990.0</td>\n",
       "      <td>TCS</td>\n",
       "      <td>976.00</td>\n",
       "      <td>986.5</td>\n",
       "    </tr>\n",
       "  </tbody>\n",
       "</table>\n",
       "</div>"
      ],
      "text/plain": [
       "     High Symbol     Low    Open\n",
       "0  1198.7    TCS  979.00  1198.7\n",
       "1   997.0    TCS  975.30   992.0\n",
       "2   982.4    TCS  958.55   982.4\n",
       "3   990.0    TCS  965.00   969.9\n",
       "4   990.0    TCS  976.00   986.5"
      ]
     },
     "execution_count": 16,
     "metadata": {},
     "output_type": "execute_result"
    }
   ],
   "source": [
    "df_100[{'Symbol','Open','High','Low'}].head()"
   ]
  },
  {
   "cell_type": "code",
   "execution_count": 17,
   "metadata": {},
   "outputs": [
    {
     "data": {
      "text/plain": [
       "2      970.475\n",
       "3      977.500\n",
       "4      983.000\n",
       "12     983.000\n",
       "1      986.150\n",
       "        ...   \n",
       "97    1327.325\n",
       "94    1328.825\n",
       "95    1340.700\n",
       "91    1343.575\n",
       "90    1346.075\n",
       "Name: Average, Length: 100, dtype: float64"
      ]
     },
     "execution_count": 17,
     "metadata": {},
     "output_type": "execute_result"
    }
   ],
   "source": [
    "data = df_100['Average']\n",
    "data = data.sort_values(ascending=True)\n",
    "data"
   ]
  },
  {
   "cell_type": "markdown",
   "metadata": {},
   "source": [
    "Computing the width of histogram interval"
   ]
  },
  {
   "cell_type": "code",
   "execution_count": 18,
   "metadata": {},
   "outputs": [
    {
     "name": "stdout",
     "output_type": "stream",
     "text": [
      "The width of the bar is : 37.56000000000002\n"
     ]
    }
   ],
   "source": [
    "r = data.max()-data.min() # The range for the histogram plot\n",
    "n = np.sqrt(100) # The number of bins\n",
    "w = r/n # The width of the bar\n",
    "print(\"The width of the bar is :\",w)"
   ]
  },
  {
   "cell_type": "markdown",
   "metadata": {},
   "source": [
    "Plotting the histogram"
   ]
  },
  {
   "cell_type": "code",
   "execution_count": 19,
   "metadata": {},
   "outputs": [
    {
     "data": {
      "image/png": "[encoded data removed]",
      "text/plain": [
       "<Figure size 432x288 with 1 Axes>"
      ]
     },
     "metadata": {
      "needs_background": "light"
     },
     "output_type": "display_data"
    }
   ],
   "source": [
    "colors = ['green', 'blue', 'lime']\n",
    "plt.hist(data, int(n), color='blue',ec='red')\n",
    "plt.xlabel(\"Intervals\")\n",
    "plt.show()"
   ]
  },
  {
   "cell_type": "markdown",
   "metadata": {},
   "source": [
    "Now we will plot the PDF(Probabilty Distribution Function) and CDF(Cummulative Distribution Function) using the data from first 100 days.\n",
    "\n",
    "We will use the CLT, or central limit theorem, to roughly estimate our data to a Normal Distribution since we don't know the precise nature of its distribution beforehand and only have 100 sample means.\n",
    "\n",
    "Plotting the normal distribution. As CLT dictates, the PDF of the sample means shall follow normal distribution."
   ]
  },
  {
   "cell_type": "code",
   "execution_count": 20,
   "metadata": {},
   "outputs": [
    {
     "data": {
      "image/png": "[encoded data removed]",
      "text/plain": [
       "<Figure size 432x288 with 1 Axes>"
      ]
     },
     "metadata": {
      "needs_background": "light"
     },
     "output_type": "display_data"
    }
   ],
   "source": [
    "from scipy.stats import norm\n",
    "m = data.mean() # Find the sample mean\n",
    "v = data.var()  # Find the sample variance\n",
    "plt.plot(data, norm.pdf(data, m, np.sqrt(v))) # Plot the normal distribution\n",
    "plt.xlabel(\"Mean stock prices\")\n",
    "plt.ylabel(\"Probability\")\n",
    "plt.show()"
   ]
  },
  {
   "cell_type": "markdown",
   "metadata": {},
   "source": [
    "Now Plot the CDF of the same sample data."
   ]
  },
  {
   "cell_type": "code",
   "execution_count": 21,
   "metadata": {},
   "outputs": [
    {
     "data": {
      "image/png": "[encoded data removed]",
      "text/plain": [
       "<Figure size 432x288 with 1 Axes>"
      ]
     },
     "metadata": {
      "needs_background": "light"
     },
     "output_type": "display_data"
    }
   ],
   "source": [
    "plt.plot(data, norm.cdf(data, m, np.sqrt(v)))\n",
    "plt.xlabel(\"Mean stock prices\")\n",
    "plt.ylabel(\"Cummulative Probability\")\n",
    "plt.show()"
   ]
  },
  {
   "cell_type": "markdown",
   "metadata": {},
   "source": [
    "Conclusion : We can clearly see that both the PDF and CDF follow normal distribution to a great extent."
   ]
  },
  {
   "cell_type": "code",
   "execution_count": null,
   "metadata": {},
   "outputs": [],
   "source": []
  }
 ],
 "metadata": {
  "kernelspec": {
   "display_name": "Python 3",
   "language": "python",
   "name": "python3"
  },
  "language_info": {
   "codemirror_mode": {
    "name": "ipython",
    "version": 3
   },
   "file_extension": ".py",
   "mimetype": "text/x-python",
   "name": "python",
   "nbconvert_exporter": "python",
   "pygments_lexer": "ipython3",
   "version": "3.7.6"
  },
  "papermill": {
   "default_parameters": {},
   "duration": 28.540302,
   "end_time": "2022-10-02T07:17:05.589096",
   "environment_variables": {},
   "exception": null,
   "input_path": "__notebook__.ipynb",
   "output_path": "__notebook__.ipynb",
   "parameters": {},
   "start_time": "2022-10-02T07:16:37.048794",
   "version": "2.3.4"
  }
 },
 "nbformat": 4,
 "nbformat_minor": 5
}
